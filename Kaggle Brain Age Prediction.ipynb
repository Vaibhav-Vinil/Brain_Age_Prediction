{
  "nbformat": 4,
  "nbformat_minor": 0,
  "metadata": {
    "colab": {
      "provenance": []
    },
    "kernelspec": {
      "name": "python3",
      "display_name": "Python 3"
    },
    "language_info": {
      "name": "python"
    }
  },
  "cells": [
    {
      "cell_type": "code",
      "execution_count": 2,
      "metadata": {
        "id": "pSEmZheFcw7R"
      },
      "outputs": [],
      "source": [
        "import os\n",
        "import numpy as np\n",
        "import pandas as pd\n",
        "import matplotlib.pyplot as plt\n",
        "import seaborn as sns\n",
        "import sklearn\n",
        "\n",
        "from scipy.stats import uniform\n",
        "from scipy.io import loadmat\n",
        "\n",
        "from sklearn.svm import SVC\n",
        "from sklearn.metrics import (balanced_accuracy_score, roc_auc_score, accuracy_score,\n",
        "                             confusion_matrix, roc_curve, mean_squared_error, r2_score)\n",
        "from sklearn.linear_model import Ridge\n",
        "from sklearn.model_selection import KFold, StratifiedKFold, RandomizedSearchCV, train_test_split\n",
        "from sklearn.preprocessing import StandardScaler, OneHotEncoder\n",
        "from sklearn.impute import SimpleImputer\n",
        "\n",
        "# The following lines adjust the granularity of reporting.\n",
        "pd.options.display.max_rows = 10\n",
        "pd.options.display.float_format = \"{:.1f}\".format\n"
      ]
    },
    {
      "cell_type": "code",
      "source": [
        "\n",
        "\n",
        "def convert_matrix_to_long_row(matrix):\n",
        "    # Ensure it's a DataFrame\n",
        "    if isinstance(matrix, np.ndarray):\n",
        "        matrix = pd.DataFrame(matrix)\n",
        "\n",
        "    # Get upper triangle of the matrix (excluding the diagonal)\n",
        "    upper_triangle = matrix.where(np.triu(np.ones(matrix.shape), k=1).astype(bool))\n",
        "\n",
        "    # Drop NaN values and get unique values\n",
        "    unique_correlations = upper_triangle.stack().dropna().unique()\n",
        "\n",
        "    return pd.DataFrame(unique_correlations).T\n",
        "\n",
        "\n"
      ],
      "metadata": {
        "id": "XZ7w_ws0fVZ6"
      },
      "execution_count": 3,
      "outputs": []
    },
    {
      "cell_type": "code",
      "source": [
        "def generate_column_headers(matrix):\n",
        "    rows, cols = matrix.shape\n",
        "    headers = [f'{i}throw_{j}thcolumn' for i in range(rows) for j in range(cols) if i < j]\n",
        "    return headers\n"
      ],
      "metadata": {
        "id": "ZQ23V2gIfVct"
      },
      "execution_count": 4,
      "outputs": []
    },
    {
      "cell_type": "code",
      "source": [
        "\n",
        "def process_folder(source_folder, output_file):\n",
        "    long_rows = []\n",
        "    all_headers = []\n",
        "    # Iterate over items in the source folder\n",
        "    for filename in os.listdir(source_folder):\n",
        "        file_path = os.path.join(source_folder, filename)\n",
        "        # Print filename if needed\n",
        "        # print(filename)\n",
        "\n",
        "        # Edge cases: check if id is 12 bytes or 11\n",
        "        len_id = 12  # default\n",
        "        if filename[4:4+len_id][-1] == \"_\":\n",
        "            print(filename[4:4+len_id])\n",
        "            len_id = 11\n",
        "\n",
        "        # Check if it is a file (and not a directory) and ends with .tsv\n",
        "        if os.path.isfile(file_path) and filename.endswith('.tsv'):\n",
        "            try:\n",
        "                # Load the matrix\n",
        "                matrix = pd.read_csv(file_path, sep='\\t', header=None)\n",
        "\n",
        "                # Generate column headers for this matrix\n",
        "                headers = ['participant_id'] + generate_column_headers(matrix)\n",
        "                all_headers = headers  # Assume all files have the same matrix shape\n",
        "\n",
        "                # Convert the matrix to a long row of unique correlations\n",
        "                long_row = convert_matrix_to_long_row(matrix)\n",
        "\n",
        "                # Add participant ID\n",
        "                extracted_id = filename[4:4+len_id]\n",
        "                long_row.insert(0, \"participant_id\", extracted_id)\n",
        "\n",
        "                # Append the long row as a new row in the results\n",
        "                long_rows.append(long_row)\n",
        "\n",
        "            except Exception as e:\n",
        "                print(f\"Error processing file {filename}: {e}\")\n",
        "        else:\n",
        "            print(f\"Skipping {filename} (not a file or not a TSV)\")\n",
        "\n",
        "    # Write out the file\n",
        "    out_df = pd.concat(long_rows)\n",
        "    out_df.columns = headers\n",
        "    out_df.to_csv(output_file, sep='\\t', header=True, index=False)\n",
        "    return out_df\n",
        "\n",
        "\n"
      ],
      "metadata": {
        "id": "fjI-FL6sfVfP"
      },
      "execution_count": 5,
      "outputs": []
    },
    {
      "cell_type": "code",
      "source": [
        "\n",
        "# Define source folders and output files (update paths as needed)\n",
        "source_folder_test = '/content/drive/MyDrive/widsdatathon2025-university/test_tsv/test_tsv'\n",
        "output_file_test = '/content/drive/MyDrive/widsdatathon2025-university/test_correlations.tsv'\n",
        "\n",
        "source_folder_train = '/content/drive/MyDrive/widsdatathon2025-university/train_tsv/train_tsv'\n",
        "output_file_train = '/content/drive/MyDrive/widsdatathon2025-university/train_correlations.tsv'\n",
        "\n"
      ],
      "metadata": {
        "id": "Hju2X-GofViK"
      },
      "execution_count": 6,
      "outputs": []
    },
    {
      "cell_type": "code",
      "source": [
        "# Process test and train folders\n",
        "test_big = process_folder(source_folder_test, output_file_test)\n",
        "\n",
        "\n"
      ],
      "metadata": {
        "id": "3OQb-mYmfVko"
      },
      "execution_count": 7,
      "outputs": []
    },
    {
      "cell_type": "code",
      "source": [
        "\n",
        "train_big = process_folder(source_folder_train, output_file_train)\n",
        "\n"
      ],
      "metadata": {
        "colab": {
          "base_uri": "https://localhost:8080/"
        },
        "id": "XasV5QZIfVnV",
        "outputId": "7af0609f-bd73-48ca-e7a3-0e90a128d9bd"
      },
      "execution_count": 8,
      "outputs": [
        {
          "output_type": "stream",
          "name": "stdout",
          "text": [
            "NDARVB04TJA_\n",
            "NDARJ257ZU2_\n",
            "NDARVB04TJA_\n"
          ]
        }
      ]
    },
    {
      "cell_type": "code",
      "source": [
        "# Checking lengths of the train/test big dataframes to make sure there were no errors in uploads/processing\n",
        "print(\"# rows, train: \", len(train_big))  # should be: 1104 rows\n",
        "print(\"# rows, test: \", len(test_big))    # should be: 474 rows\n",
        "\n",
        "\n"
      ],
      "metadata": {
        "colab": {
          "base_uri": "https://localhost:8080/"
        },
        "id": "Gf1v0Tr-fVqD",
        "outputId": "28d4ff47-757e-47ff-d208-4d05160abca2"
      },
      "execution_count": 9,
      "outputs": [
        {
          "output_type": "stream",
          "name": "stdout",
          "text": [
            "# rows, train:  1705\n",
            "# rows, test:  474\n"
          ]
        }
      ]
    },
    {
      "cell_type": "code",
      "source": [
        "# Read metadata from drive\n",
        "train_short = pd.read_csv(\"/content/drive/MyDrive/widsdatathon2025-university/metadata/training_metadata.csv\")\n",
        "test_short  = pd.read_csv(\"/content/drive/MyDrive/widsdatathon2025-university/metadata/test_metadata.csv\")\n"
      ],
      "metadata": {
        "id": "dmcNGuxVfVsm"
      },
      "execution_count": 10,
      "outputs": []
    },
    {
      "cell_type": "code",
      "source": [
        "# Checking the size of our short dataframes\n",
        "print(\"train_short shape:\", train_short.shape)  # e.g., (1104, 4)\n",
        "print(\"test_short shape:\", test_short.shape)    # e.g., (474, 4)\n"
      ],
      "metadata": {
        "colab": {
          "base_uri": "https://localhost:8080/"
        },
        "id": "2KRP5ddLgFCn",
        "outputId": "6291f6b4-2f0a-4b42-fa71-076264a9c21f"
      },
      "execution_count": 11,
      "outputs": [
        {
          "output_type": "stream",
          "name": "stdout",
          "text": [
            "train_short shape: (1104, 14)\n",
            "test_short shape: (474, 13)\n"
          ]
        }
      ]
    },
    {
      "cell_type": "code",
      "source": [
        "\n",
        "# Merge the big correlation data with the metadata\n",
        "train = pd.merge(train_big, train_short, on='participant_id', how='outer')\n",
        "test = pd.merge(test_big, test_short, on='participant_id', how='outer')\n"
      ],
      "metadata": {
        "id": "pf1g5fQRfVvT"
      },
      "execution_count": 12,
      "outputs": []
    },
    {
      "cell_type": "code",
      "source": [
        "# Print the first few rows and shapes of the merged dataframes\n",
        "print(train.head())\n",
        "print(test.head())\n",
        "print(\"Train shape:\", train.shape)\n",
        "print(\"Test shape:\", test.shape)\n",
        "\n"
      ],
      "metadata": {
        "colab": {
          "base_uri": "https://localhost:8080/"
        },
        "id": "9u3ioL_SfVx3",
        "outputId": "54a6b5c2-bfcc-46e4-e9b5-c30739f2d387"
      },
      "execution_count": 13,
      "outputs": [
        {
          "output_type": "stream",
          "name": "stdout",
          "text": [
            "  participant_id  0throw_1thcolumn  0throw_2thcolumn  0throw_3thcolumn  \\\n",
            "0   NDARAA306NT2               0.5               0.5               0.4   \n",
            "1   NDARAA504CRN               0.1               0.7               0.7   \n",
            "2   NDARAA536PTU               0.1               0.5               0.3   \n",
            "3   NDARAB055BPR               0.3               0.6               0.1   \n",
            "4   NDARAB458VK9               0.3               0.6               0.7   \n",
            "\n",
            "   0throw_4thcolumn  0throw_5thcolumn  0throw_6thcolumn  0throw_7thcolumn  \\\n",
            "0               0.4               0.7               0.4               0.5   \n",
            "1               0.5               0.7               0.6               0.5   \n",
            "2               0.7               0.7               0.6               0.5   \n",
            "3               0.2               0.5               0.5               0.7   \n",
            "4               0.5               0.7               0.7               0.5   \n",
            "\n",
            "   0throw_8thcolumn  0throw_9thcolumn  ...  bmi               ethnicity  \\\n",
            "0              -0.1               0.1  ... 30.7  Not_Hispanic_or_Latino   \n",
            "1               0.2               0.4  ... 16.5      Hispanic_or_Latino   \n",
            "2               0.0               0.5  ... 21.3      Hispanic_or_Latino   \n",
            "3               0.4               0.5  ... 26.9  Not_Hispanic_or_Latino   \n",
            "4               0.3               0.3  ... 15.8      Hispanic_or_Latino   \n",
            "\n",
            "    race  handedness  parent_1_education  parent_2_education  p_factor_fs  \\\n",
            "0  Other       Right  Complete_secondary   Complete_tertiary          1.3   \n",
            "1  Other       Right                 NaN   Complete_tertiary         -0.1   \n",
            "2    NaN        Left   Complete_tertiary   Complete_tertiary          0.5   \n",
            "3  Black       Right    Complete_primary   Complete_tertiary          0.8   \n",
            "4  White       Right  Complete_secondary  Complete_secondary         -0.4   \n",
            "\n",
            "   internalizing_fs  externalizing_fs  attention_fs  \n",
            "0               1.7              -1.1          -0.7  \n",
            "1               1.9               0.2           0.1  \n",
            "2              -1.3              -0.1           0.8  \n",
            "3              -0.4              -0.6           1.4  \n",
            "4              -0.6              -0.2           0.1  \n",
            "\n",
            "[5 rows x 19914 columns]\n",
            "  participant_id  0throw_1thcolumn  0throw_2thcolumn  0throw_3thcolumn  \\\n",
            "0   NDARAA075AMK               0.5               0.5               0.5   \n",
            "1   NDARAA948VFH              -0.3               0.8               0.4   \n",
            "2   NDARAC462DZH               0.2               0.7               0.5   \n",
            "3   NDARAC853CR6               0.2               0.7               0.6   \n",
            "4   NDARAD703XA2               0.1               0.7               0.7   \n",
            "\n",
            "   0throw_4thcolumn  0throw_5thcolumn  0throw_6thcolumn  0throw_7thcolumn  \\\n",
            "0               0.5               0.5               0.6               0.6   \n",
            "1               0.7               0.8               0.7               0.7   \n",
            "2               0.4               0.5               0.6               0.5   \n",
            "3               0.5               0.4               0.5               0.5   \n",
            "4               0.5               0.6               0.5               0.4   \n",
            "\n",
            "   0throw_8thcolumn  0throw_9thcolumn  ...  bmi               ethnicity  \\\n",
            "0               0.3               0.4  ... 14.9                     NaN   \n",
            "1               0.4               0.6  ... 17.8  Not_Hispanic_or_Latino   \n",
            "2               0.1               0.5  ... 18.3  Not_Hispanic_or_Latino   \n",
            "3               0.3               0.5  ... 16.2  Not_Hispanic_or_Latino   \n",
            "4               0.5               0.5  ... 16.0  Not_Hispanic_or_Latino   \n",
            "\n",
            "    race  handedness  parent_1_education  parent_2_education  p_factor_fs  \\\n",
            "0    NaN       Right   Complete_tertiary   Complete_tertiary         -1.6   \n",
            "1  White       Right  Complete_secondary   Complete_tertiary         -0.1   \n",
            "2  White       Right    Complete_primary   Complete_tertiary          1.3   \n",
            "3  White        Left   Complete_tertiary   Complete_tertiary          0.0   \n",
            "4  White       Right   Complete_tertiary   Complete_tertiary          0.2   \n",
            "\n",
            "   internalizing_fs  externalizing_fs  attention_fs  \n",
            "0              -0.7              -0.3          -0.4  \n",
            "1              -0.4               0.4           0.1  \n",
            "2              -1.8              -0.6           0.2  \n",
            "3              -1.5              -0.2           1.1  \n",
            "4               0.5               0.2          -0.6  \n",
            "\n",
            "[5 rows x 19913 columns]\n",
            "Train shape: (1705, 19914)\n",
            "Test shape: (474, 19913)\n"
          ]
        }
      ]
    },
    {
      "cell_type": "code",
      "source": [
        "\n",
        "# Prepare features and targets\n",
        "# For training features, drop the 'age' column (target)\n",
        "X_train = train.drop(columns=['age'])\n",
        "X_test = test.copy()  # test data does not include the target"
      ],
      "metadata": {
        "id": "7JQT8PR4fV0d"
      },
      "execution_count": 14,
      "outputs": []
    },
    {
      "cell_type": "code",
      "source": [
        "# Define targets\n",
        "y_train = train['age']\n",
        "# Note: y_test is not used for submission; test metadata might have an age column for evaluation locally.\n",
        "# Here we assume we predict for test and submit the participant IDs and predicted ages.\n"
      ],
      "metadata": {
        "id": "G99P5-XsfV3s"
      },
      "execution_count": 15,
      "outputs": []
    },
    {
      "cell_type": "code",
      "source": [
        "\n",
        "# Check for NaN values in X_train and X_test\n",
        "print(\"NaN values in train:\", pd.isna(X_train).sum().sum())\n",
        "print(\"NaN values in test:\", pd.isna(X_test).sum().sum())\n"
      ],
      "metadata": {
        "colab": {
          "base_uri": "https://localhost:8080/"
        },
        "id": "GeYR24VagNoa",
        "outputId": "b6c7d3d1-768d-476f-8a13-8b7a3e64d5dd"
      },
      "execution_count": 16,
      "outputs": [
        {
          "output_type": "stream",
          "name": "stdout",
          "text": [
            "NaN values in train: 2549\n",
            "NaN values in test: 230\n"
          ]
        }
      ]
    },
    {
      "cell_type": "code",
      "source": [
        "# List of categorical columns to one-hot encode\n",
        "categorical_cols = ['sex', 'study_site', 'ethnicity', 'race', 'handedness', 'parent_1_education', 'parent_2_education']\n",
        "\n"
      ],
      "metadata": {
        "id": "OVu4FYt7gNr1"
      },
      "execution_count": 17,
      "outputs": []
    },
    {
      "cell_type": "code",
      "source": [
        "\n",
        "# Fill missing values in categorical columns with \"Unknown\"\n",
        "X_train.loc[:, categorical_cols] = X_train.loc[:, categorical_cols].fillna(\"Unknown\")\n",
        "X_test.loc[:, categorical_cols] = X_test.loc[:, categorical_cols].fillna(\"Unknown\")\n"
      ],
      "metadata": {
        "id": "l_0_eSZ2gOfA"
      },
      "execution_count": 18,
      "outputs": []
    },
    {
      "cell_type": "code",
      "source": [
        "# Identify numerical columns from X_test (assumed to be same in X_train)\n",
        "numerical_cols = X_test.select_dtypes(include=[np.number]).columns\n",
        "\n",
        "# Impute numerical columns with the mean value\n",
        "imputer_num = SimpleImputer(strategy='mean')\n",
        "X_train.loc[:, numerical_cols] = imputer_num.fit_transform(X_train[numerical_cols])\n",
        "X_test.loc[:, numerical_cols] = imputer_num.transform(X_test[numerical_cols])\n",
        "\n",
        "\n"
      ],
      "metadata": {
        "id": "9d7nAO2pgOhX"
      },
      "execution_count": 19,
      "outputs": []
    },
    {
      "cell_type": "code",
      "source": [
        "# Ensure categorical columns are strings\n",
        "X_train.loc[:, categorical_cols] = X_train.loc[:, categorical_cols].astype(str)\n",
        "X_test.loc[:, categorical_cols] = X_test.loc[:, categorical_cols].astype(str)\n",
        "\n"
      ],
      "metadata": {
        "id": "wCvoHX_3gOkv"
      },
      "execution_count": 20,
      "outputs": []
    },
    {
      "cell_type": "code",
      "source": [
        "# Apply One-Hot Encoding to the categorical columns\n",
        "encoder = OneHotEncoder(drop='first', handle_unknown='ignore')\n",
        "X_train_encoded = encoder.fit_transform(X_train[categorical_cols])\n",
        "X_test_encoded = encoder.transform(X_test[categorical_cols])\n",
        "\n",
        "# Convert encoded columns into DataFrames\n",
        "X_train_encoded_df = pd.DataFrame(X_train_encoded.todense(),\n",
        "                                  columns=encoder.get_feature_names_out(categorical_cols))\n",
        "X_test_encoded_df = pd.DataFrame(X_test_encoded.todense(),\n",
        "                                 columns=encoder.get_feature_names_out(categorical_cols))\n"
      ],
      "metadata": {
        "id": "R0uXyFp4gYb0"
      },
      "execution_count": 21,
      "outputs": []
    },
    {
      "cell_type": "code",
      "source": [
        "# Drop original categorical columns from X_train and X_test\n",
        "X_train_numerical = X_train.drop(categorical_cols, axis=1).reset_index(drop=True)\n",
        "X_test_numerical = X_test.drop(categorical_cols, axis=1).reset_index(drop=True)\n"
      ],
      "metadata": {
        "id": "jSn3fw7mgYeK"
      },
      "execution_count": 22,
      "outputs": []
    },
    {
      "cell_type": "code",
      "source": [
        "# Combine the encoded categorical columns with the numerical columns\n",
        "X_train_final = pd.concat([X_train_encoded_df, X_train_numerical], axis=1)\n",
        "X_test_final = pd.concat([X_test_encoded_df, X_test_numerical], axis=1)\n"
      ],
      "metadata": {
        "id": "iv_GUrZIgYhn"
      },
      "execution_count": 23,
      "outputs": []
    },
    {
      "cell_type": "code",
      "source": [
        "# Exclude any remaining non-numeric columns (if any)\n",
        "X_train_final = X_train_final.select_dtypes(exclude=['object'])\n",
        "X_test_final = X_test_final.select_dtypes(exclude=['object'])\n"
      ],
      "metadata": {
        "id": "1IVd3VJvgY1a"
      },
      "execution_count": 24,
      "outputs": []
    },
    {
      "cell_type": "code",
      "source": [
        "# Ensure X_train_final aligns with y_train by reindexing if necessary\n",
        "X_train_final = X_train_final.loc[y_train.index]\n"
      ],
      "metadata": {
        "id": "jIrouG3CgY4y"
      },
      "execution_count": 25,
      "outputs": []
    },
    {
      "cell_type": "code",
      "source": [
        "# -------------------------------\n",
        "# MODELING: RIDGE REGRESSION WITH HYPERPARAMETER TUNING\n",
        "# -------------------------------\n"
      ],
      "metadata": {
        "id": "exoaEvqwghg3"
      },
      "execution_count": 26,
      "outputs": []
    },
    {
      "cell_type": "code",
      "source": [
        "\n",
        "\n",
        "# Set up the Ridge regressor\n",
        "ridge = Ridge(random_state=42)\n",
        "\n",
        "# Define the parameter distribution for alpha\n",
        "param_dist = {'alpha': uniform(loc=0.01, scale=100)}\n",
        "\n",
        "# Set up 5-fold cross-validation within RandomizedSearchCV\n",
        "cv = KFold(n_splits=5, shuffle=True, random_state=42)\n",
        "\n",
        "# Initialize RandomizedSearchCV for hyperparameter tuning\n",
        "random_search = RandomizedSearchCV(estimator=ridge,\n",
        "                                   param_distributions=param_dist,\n",
        "                                   n_iter=50,\n",
        "                                   cv=cv,\n",
        "                                   scoring='neg_mean_squared_error',  # Using negative MSE as the score\n",
        "                                   random_state=42,\n",
        "                                   n_jobs=-1)\n",
        "\n",
        "# Fit the hyperparameter search on the training data\n",
        "random_search.fit(X_train_final, y_train)\n",
        "\n",
        "# Print the best hyperparameters and best cross-validation score\n",
        "print(\"Best Hyperparameters:\", random_search.best_params_)\n",
        "best_cv_score = -random_search.best_score_  # Convert to positive MSE\n",
        "print(\"Best CV Mean Squared Error: {:.2f}\".format(best_cv_score))\n",
        "\n",
        "# Retrieve the best model from the search\n",
        "best_model = random_search.best_estimator_\n",
        "\n",
        "# 9mins\n"
      ],
      "metadata": {
        "colab": {
          "base_uri": "https://localhost:8080/"
        },
        "id": "SPRSakOvghjm",
        "outputId": "63902193-4664-4541-ec46-752d66f8ff57"
      },
      "execution_count": 27,
      "outputs": [
        {
          "output_type": "stream",
          "name": "stdout",
          "text": [
            "Best Hyperparameters: {'alpha': 36.64618432936917}\n",
            "Best CV Mean Squared Error: 1.89\n"
          ]
        }
      ]
    },
    {
      "cell_type": "code",
      "source": [
        "# Evaluate the model on the full training set\n",
        "y_train_pred = best_model.predict(X_train_final)\n",
        "train_mse = mean_squared_error(y_train, y_train_pred)\n",
        "train_r2 = r2_score(y_train, y_train_pred)\n",
        "print(\"Training MSE: {:.2f}\".format(train_mse))\n",
        "print(\"Training R^2 Score: {:.2f}\".format(train_r2))\n",
        "\n"
      ],
      "metadata": {
        "colab": {
          "base_uri": "https://localhost:8080/"
        },
        "id": "PtX7mqiyghnD",
        "outputId": "815bd43a-3c45-47a6-cd79-1f0e1a275b03"
      },
      "execution_count": 28,
      "outputs": [
        {
          "output_type": "stream",
          "name": "stdout",
          "text": [
            "Training MSE: 0.02\n",
            "Training R^2 Score: 1.00\n"
          ]
        }
      ]
    },
    {
      "cell_type": "code",
      "source": [
        "# Make predictions on the test set\n",
        "y_pred = best_model.predict(X_test_final)\n",
        "\n",
        "# Ensure predictions are non-negative (age is always positive)\n",
        "y_pred = np.clip(y_pred, a_min=0, a_max=None)\n",
        "\n"
      ],
      "metadata": {
        "id": "oqoUa8HFgoxo"
      },
      "execution_count": 29,
      "outputs": []
    },
    {
      "cell_type": "code",
      "source": [
        "\n",
        "\n",
        "# For demonstration, print participant IDs with their predicted age from the test set\n",
        "for j, pred in enumerate(y_pred):\n",
        "    print(test['participant_id'].iloc[j], pred)\n",
        "\n",
        "# -------------------------------\n",
        "# CREATE SUBMISSION FILE\n",
        "# -------------------------------\n",
        "\n"
      ],
      "metadata": {
        "colab": {
          "base_uri": "https://localhost:8080/"
        },
        "id": "0DlzD_dzgqyh",
        "outputId": "c9f22641-e661-4fed-e84d-449872804702"
      },
      "execution_count": 30,
      "outputs": [
        {
          "output_type": "stream",
          "name": "stdout",
          "text": [
            "NDARAA075AMK 8.252824570146142\n",
            "NDARAA948VFH 9.143727250022382\n",
            "NDARAC462DZH 7.318647908892123\n",
            "NDARAC853CR6 6.254633210115355\n",
            "NDARAD703XA2 9.371603129051241\n",
            "NDARAE199TDD 6.992844483141456\n",
            "NDARAF535XK6 13.819197157677596\n",
            "NDARAG340ERT 12.66872757364018\n",
            "NDARAH304ED7 10.322825277320598\n",
            "NDARAH503YG1 8.89206219327546\n",
            "NDARAH793FBF 5.519384712577361\n",
            "NDARAJ366ZFA 9.594494802075324\n",
            "NDARAL897CYV 11.634473769404174\n",
            "NDARAM357BUA 11.921254887831815\n",
            "NDARAP049KXJ 8.4764585490415\n",
            "NDARAP785CTE 9.937376497165747\n",
            "NDARAR025WX4 9.858642227005348\n",
            "NDARAR238RZ8 10.7624685231956\n",
            "NDARAT299YRR 9.4799703923181\n",
            "NDARAV187GJ5 10.291865040666943\n",
            "NDARAV894XWD 12.751846330986112\n",
            "NDARAW179AYF 10.2581558390566\n",
            "NDARAX283MAK 10.68002977330296\n",
            "NDARAY298THW 9.046100656061935\n",
            "NDARBD328NUQ 10.334422376119935\n",
            "NDARBF042LDM 9.638730770593831\n",
            "NDARBF183RFB 12.380070150638598\n",
            "NDARBG574KF4 8.663185239306266\n",
            "NDARBJ375VP4 9.666096194201023\n",
            "NDARBK106KRH 11.621212515456111\n",
            "NDARBL242L4H 10.681352617675413\n",
            "NDARBN365EV3 12.22595011761192\n",
            "NDARBN620TT7 16.192401704798733\n",
            "NDARBU098PJT 11.22413743564181\n",
            "NDARBU112XZE 14.296526469321694\n",
            "NDARBU730PN8 13.275896350248477\n",
            "NDARBV630BK6 8.603576451705912\n",
            "NDARCB504PGG 5.994426874697634\n",
            "NDARCC059WTH 8.612914995974291\n",
            "NDARCD182XT1 9.779552460001177\n",
            "NDARCF052AE0 7.803294246717846\n",
            "NDARCG438NML 18.15600101452045\n",
            "NDARCH514JCT 10.024903353868249\n",
            "NDARCJ433TCG 13.182061737295697\n",
            "NDARCK481KRH 11.129724928566903\n",
            "NDARCK647MU6 8.918796009174219\n",
            "NDARCL590LPD 12.384618507983797\n",
            "NDARCM135DVC 10.925311153686692\n",
            "NDARCP642KML 15.929644665323677\n",
            "NDARCR582GKJ 14.965883646197085\n",
            "NDARCR715LEY 8.183279315346955\n",
            "NDARCT420MW1 7.3310427471301285\n",
            "NDARCU621EBN 16.465688230973086\n",
            "NDARCU865PBV 10.085671075684763\n",
            "NDARCV606ZZ5 13.652095985240845\n",
            "NDARCV981XUY 16.20606535083278\n",
            "NDARCW611MK5 7.739829997363534\n",
            "NDARCW963FP9 9.646164955391027\n",
            "NDARCX021XWF 15.941169992900033\n",
            "NDARCY036NTA 14.356777397243956\n",
            "NDARCZ947WU5 12.442241122541947\n",
            "NDARDA573XGG 15.29710087246596\n",
            "NDARDD854GF8 12.059954452689164\n",
            "NDARDE877RFH 10.507618124072893\n",
            "NDARDH214UVC 12.038083564782536\n",
            "NDARDJ544BU5 9.759108450374246\n",
            "NDARDJ970ELG 15.336550992848787\n",
            "NDARDL291DN4 8.487390116316488\n",
            "NDARDN489EXJ 13.676828884537096\n",
            "NDARDR254KXZ 6.334736508243262\n",
            "NDARDR658DRA 7.674521934107219\n",
            "NDARDW178AC6 15.452012986245839\n",
            "NDARDX561MRY 8.505162955902707\n",
            "NDARDZ147ETZ 5.987057171575571\n",
            "NDARDZ528DLZ 10.69466898648558\n",
            "NDAREC238AY4 11.406741695977733\n",
            "NDAREC277JCP 11.169856867008876\n",
            "NDAREC486ZPV 17.434238848093703\n",
            "NDARED628HMQ 10.194254176892734\n",
            "NDARED945TNQ 10.742264465023693\n",
            "NDAREF164ZUJ 8.40218628883274\n",
            "NDAREJ327AH7 12.250610296435516\n",
            "NDAREK544ENR 8.246118837189254\n",
            "NDAREK801BPB 6.7481786726009085\n",
            "NDAREK947FYP 8.212613366943645\n",
            "NDAREM757NBG 14.437991474536608\n",
            "NDAREN999ERM 11.353551413762121\n",
            "NDARER379GTP 7.16184929767898\n",
            "NDAREW937RMY 10.785264482185976\n",
            "NDARFA464HJQ 10.887646504560603\n",
            "NDARFB528UVB 10.206608823100796\n",
            "NDARFD552FRH 15.091529133456023\n",
            "NDARFE163HVN 13.798382374678287\n",
            "NDARFE299MWU 6.573594694543594\n",
            "NDARFF644ZGD 10.073844926247144\n",
            "NDARFG118DW3 8.346092427231966\n",
            "NDARFG364YMG 16.114941163500852\n",
            "NDARFM211KDJ 9.34928786495552\n",
            "NDARFM749LF3 8.801954591185307\n",
            "NDARFN452VPC 11.0144523447733\n",
            "NDARFN553LUV 10.751400736359255\n",
            "NDARFP503KJF 9.726259996703604\n",
            "NDARFR426KVH 9.835709616213867\n",
            "NDARFT787HJW 8.736786462867514\n",
            "NDARFT964EU8 10.209738104366473\n",
            "NDARFW578RU9 7.793639436766028\n",
            "NDARFX710UZA 7.581721454362807\n",
            "NDARFY009MNL 10.893724485264158\n",
            "NDARFZ296UNG 6.56728598731825\n",
            "NDARGA048BD8 11.85139506583746\n",
            "NDARGA967MGC 9.730519796965607\n",
            "NDARGB000CW8 8.641683014244883\n",
            "NDARGB040MGR 16.229483549741204\n",
            "NDARGC170UK2 11.680581187102147\n",
            "NDARGF367KVL 15.427493160974421\n",
            "NDARGF445UFB 8.876071759823468\n",
            "NDARGG423UMK 16.056773646681958\n",
            "NDARGH074MU6 16.846049801970935\n",
            "NDARGJ392ACY 14.075612978504672\n",
            "NDARGJ653MG2 14.431829515921319\n",
            "NDARGK672URV 11.221514229366202\n",
            "NDARGL289TB8 12.262523863179737\n",
            "NDARGL800LDW 6.232837397770415\n",
            "NDARGM439FZD 15.418164056796542\n",
            "NDARGM498YFL 8.116507504392935\n",
            "NDARGN044FE4 14.964811361120077\n",
            "NDARGR893PUA 10.585015395842852\n",
            "NDARGW450YUX 9.365351616116644\n",
            "NDARGX161LRM 9.441072435232943\n",
            "NDARGX443CEU 10.213630328907316\n",
            "NDARGY148EVU 12.27838492166726\n",
            "NDARGY639ANB 10.010072464684477\n",
            "NDARGZ361JJ9 13.25392441022192\n",
            "NDARHB781DD8 7.610115416445259\n",
            "NDARHC661KGK 12.97819059528446\n",
            "NDARHC737MHK 6.910134456868666\n",
            "NDARHD276TYX 14.753002316519998\n",
            "NDARHF150FDY 16.35637318842859\n",
            "NDARHJ034LDM 14.021279446831137\n",
            "NDARHL238VL2 9.096257771629931\n",
            "NDARHL822EJK 11.32444112362505\n",
            "NDARHM413HVA 9.017357894230724\n",
            "NDARHM421JUP 7.308648522540008\n",
            "NDARHM611GDR 7.754001953212175\n",
            "NDARHM615PJH 9.311285115126399\n",
            "NDARHR372GJ7 14.240868860346211\n",
            "NDARHR944BBY 11.379354558540955\n",
            "NDARHT844LZR 13.199981423672543\n",
            "NDARHV527DNK 7.361792449563957\n",
            "NDARHW216PER 15.572366818086735\n",
            "NDARHX877BLQ 9.773553233835747\n",
            "NDARHX934KJ5 13.3276822128066\n",
            "NDARHX963YU1 11.582479022194416\n",
            "NDARHZ476MJP 12.266740550585606\n",
            "NDARHZ923PAH 13.856531688899818\n",
            "NDARJA157YB3 10.938649995976224\n",
            "NDARJA737FAJ 10.916058473731294\n",
            "NDARJA788CH7 15.028845729266726\n",
            "NDARJB233RL7 12.921020721406336\n",
            "NDARJC514CE0 7.685252974061766\n",
            "NDARJH367WKY 14.723889352997357\n",
            "NDARJH707GJM 11.763812500088985\n",
            "NDARJH910CGX 12.180525282369647\n",
            "NDARJJ345VHW 12.685858019573402\n",
            "NDARJK154PF5 11.764307407050666\n",
            "NDARJK910PDK 14.344341351685655\n",
            "NDARJL656RDA 9.359706817054802\n",
            "NDARJL861WTP 8.04787197991031\n",
            "NDARJM296MDW 11.338793703972481\n",
            "NDARJM765EZF 13.458252826100452\n",
            "NDARJR280FEJ 10.240467781368814\n",
            "NDARJT172UE0 6.696695774917675\n",
            "NDARJT523MV7 8.097283661350973\n",
            "NDARJV377HG4 8.672942595755782\n",
            "NDARJW072UJ3 11.283568395934124\n",
            "NDARJX258XF0 11.918516836982814\n",
            "NDARJZ167VEZ 10.011838126855459\n",
            "NDARJZ888UX6 10.493897665440782\n",
            "NDARKB614KGY 10.001311605980344\n",
            "NDARKC403LRW 8.014241727995383\n",
            "NDARKC978MR4 13.743044268199991\n",
            "NDARKD064EVC 12.48606506059513\n",
            "NDARKD124UHN 8.820943362700902\n",
            "NDARKG697CEW 17.035183734435748\n",
            "NDARKH837TB2 7.310788492743882\n",
            "NDARKJ322ELL 8.28293254637508\n",
            "NDARKK774VP5 12.15348884408537\n",
            "NDARKL156NJG 11.386086738931038\n",
            "NDARKL327YDQ 12.237120459662112\n",
            "NDARKM497VKX 9.893216081556506\n",
            "NDARKN477EBH 11.904890641890216\n",
            "NDARKP414AZ5 13.17242824027759\n",
            "NDARKR010EN7 9.190944609485571\n",
            "NDARKR391CMV 12.758033040733611\n",
            "NDARKT312RUD 15.477308023544001\n",
            "NDARKT540ZW0 8.590237784652771\n",
            "NDARKT714TXR 13.046355994649518\n",
            "NDARKU616UBL 15.65796275846406\n",
            "NDARKU649DB7 10.607512607316979\n",
            "NDARKV353MTD 10.013836343795772\n",
            "NDARKW010CT2 8.807407777648997\n",
            "NDARKW383ZPF 11.712259635315794\n",
            "NDARKW531ACR 9.934348439134686\n",
            "NDARKW565ZT9 7.493374786443043\n",
            "NDARKX788PHG 12.87993990573036\n",
            "NDARKZ085UKQ 8.454151230891664\n",
            "NDARLA226ADX 8.982966178614083\n",
            "NDARLB162XP2 6.804355023640919\n",
            "NDARLE554GYT 14.979252923154966\n",
            "NDARLF480DMW 8.863050779634994\n",
            "NDARLG154ZA3 15.374663122938756\n",
            "NDARLG942AZ1 5.377184788552844\n",
            "NDARLH979WFX 11.912391014347648\n",
            "NDARLJ280UCN 8.888393938653998\n",
            "NDARLL331PW8 11.703430347285284\n",
            "NDARLL720BGU 8.36033330276309\n",
            "NDARLM196YRG 12.4360850711932\n",
            "NDARLM313FVX 7.989244065356201\n",
            "NDARLN961XGP 8.868087615030996\n",
            "NDARLR030EW6 14.747060914168994\n",
            "NDARLR924YAV 11.25136727515331\n",
            "NDARLZ104NDT 10.338148155607723\n",
            "NDARLZ701LJ3 13.42173294205896\n",
            "NDARMA390CHB 11.011083071852141\n",
            "NDARMB273TED 13.38178728656463\n",
            "NDARMD278GEN 9.513628649255262\n",
            "NDARME100GK1 9.471326784969676\n",
            "NDARME724FJE 10.160796870230161\n",
            "NDARME930DE7 11.293238377159753\n",
            "NDARMG263JRX 9.569702488393705\n",
            "NDARMH249AWF 14.557160535617069\n",
            "NDARMH364EMW 8.698803559795943\n",
            "NDARMJ219AKU 14.142903450530493\n",
            "NDARMJ333WJM 11.00019969222653\n",
            "NDARMK416UUQ 10.0639724878169\n",
            "NDARMM005DLK 14.42592210854398\n",
            "NDARMN415AXR 10.05304600667459\n",
            "NDARMT661WCR 9.174962417517815\n",
            "NDARMT732GKM 9.990484204057745\n",
            "NDARMV274TAY 9.098258348593834\n",
            "NDARMW178UDD 10.925262942272303\n",
            "NDARMW551YA0 14.125416309324299\n",
            "NDARMX032AU3 10.373826685983747\n",
            "NDARNB905CFU 12.321498195813641\n",
            "NDARND085WZK 9.503335200657702\n",
            "NDARNE800DCT 14.250730663095908\n",
            "NDARNF341BNN 6.73749197577593\n",
            "NDARNF873FCV 15.943298854555376\n",
            "NDARNF954MK3 11.90145817399942\n",
            "NDARNG309KZ8 9.059056032867911\n",
            "NDARNG689AAP 18.557869509964526\n",
            "NDARNG968RB9 9.97134541293194\n",
            "NDARNH285EWA 8.206861463644646\n",
            "NDARNJ687DMC 9.044178161523194\n",
            "NDARNL134VF0 10.279660592822092\n",
            "NDARNL587LVL 12.505466547674821\n",
            "NDARNN142WYB 10.15288301057631\n",
            "NDARNN624AMU 12.374843116523742\n",
            "NDARNP643KZH 12.934823167091729\n",
            "NDARNR459MUJ 7.373529658216228\n",
            "NDARNT151UN1 6.305824458199571\n",
            "NDARNT205ZKP 14.36287396558782\n",
            "NDARNT541VT2 15.250398539279882\n",
            "NDARNV124WR8 8.613447302970647\n",
            "NDARNW218ZBU 9.246028798369533\n",
            "NDARNY419GR2 15.189608386338636\n",
            "NDARNZ043VH0 11.76496827973208\n",
            "NDARNZ141GNH 12.529208361146772\n",
            "NDARPA005VVK 8.279832147314668\n",
            "NDARPC817XZ5 12.744922065089174\n",
            "NDARPD977VX2 11.998522391167525\n",
            "NDARPE404CMV 8.263215660166198\n",
            "NDARPE752VYE 9.956082649317235\n",
            "NDARPF179GNV 11.928429610980059\n",
            "NDARPF395NV5 12.593766774697805\n",
            "NDARPH513LP3 16.681408914477554\n",
            "NDARPH542LMH 11.872611019253085\n",
            "NDARPH567WUB 14.448672501143903\n",
            "NDARPK522DVQ 12.140482217787621\n",
            "NDARPL201YL4 10.261784486554564\n",
            "NDARPL215MTH 8.881033180145712\n",
            "NDARPL306LC6 7.923534508326669\n",
            "NDARPL501ZUU 12.401448080059357\n",
            "NDARPL596YTD 7.371890248995294\n",
            "NDARPL598MVU 8.482878491693484\n",
            "NDARPP337KUQ 11.363284314616322\n",
            "NDARPR768KT4 16.13125003551854\n",
            "NDARPU329MDJ 9.013338201839609\n",
            "NDARPV009TYX 7.20700939403565\n",
            "NDARPV303LAX 9.774131421572957\n",
            "NDARPW482TVE 11.889220063871015\n",
            "NDARPW786GC4 12.005141522359526\n",
            "NDARPW915RGD 9.038764146050076\n",
            "NDARPX219TW0 14.642400998320465\n",
            "NDARPY478YM0 15.106558853713087\n",
            "NDARPZ621ZLE 11.425592087600677\n",
            "NDARRA383KVQ 10.662737382207144\n",
            "NDARRA767WB7 9.626789032022794\n",
            "NDARRA981BCM 9.945722680383366\n",
            "NDARRC982ZE9 10.656468962059597\n",
            "NDARRG199RU4 10.569999003184162\n",
            "NDARRG536CVP 13.266698562001926\n",
            "NDARRJ763GUF 11.791409842136437\n",
            "NDARRK135YAZ 13.575353574944042\n",
            "NDARRL030XD8 12.836503913672365\n",
            "NDARRL218DJ5 11.01526156876161\n",
            "NDARRM073JKA 11.51255135452992\n",
            "NDARRM122UPB 12.635689812206799\n",
            "NDARRP592GHK 11.314220270343302\n",
            "NDARRP801AX1 12.966887691973138\n",
            "NDARRP818DWL 14.274025579299046\n",
            "NDARRR595LRJ 12.780781036768294\n",
            "NDARRR735VMN 9.263310330819953\n",
            "NDARRV217VTA 8.736473698717962\n",
            "NDARRV480PU1 8.987402537317433\n",
            "NDARRW680PHD 11.506769075110753\n",
            "NDARRX084UML 8.305793983862111\n",
            "NDARRX819BZ0 9.948171523437756\n",
            "NDARRY006EMB 12.085375397900222\n",
            "NDARRY768ZH3 10.88351364607625\n",
            "NDARRZ927VC3 7.542345441019474\n",
            "NDARRZ993EL4 15.056532553001588\n",
            "NDARTA819MF0 8.446965166245034\n",
            "NDARTB755MF5 11.134990598865095\n",
            "NDARTC652JK4 16.32747286686795\n",
            "NDARTE115TAE 13.575289132478899\n",
            "NDARTE785ZMJ 8.372752504008034\n",
            "NDARTF566PYH 8.383624710594097\n",
            "NDARTF833WXB 8.935860781942102\n",
            "NDARTH473LF8 11.354757116318048\n",
            "NDARTH610GMK 10.46130789134454\n",
            "NDARTJ862ENU 13.463067927888641\n",
            "NDARTK357VHL 6.203150862456333\n",
            "NDARTN760YH8 19.523464381972403\n",
            "NDARTR175UDC 12.55103764590644\n",
            "NDARTV107XD4 9.560614079584195\n",
            "NDARTV480WBU 8.516404970569093\n",
            "NDARTW850GHU 13.633028238079174\n",
            "NDARTW855BPJ 14.267785323044468\n",
            "NDARTX659HAF 14.600735845576473\n",
            "NDARTZ901LDK 11.083050175110905\n",
            "NDARUC715YN4 11.528624867563646\n",
            "NDARUC980NZ5 15.20250661259733\n",
            "NDARUD764NFJ 12.759264443795303\n",
            "NDARUE533XNH 14.641695328361472\n",
            "NDARUF236HM7 7.2058830191732\n",
            "NDARUF540ZJ1 13.937933146543617\n",
            "NDARUF850XKH 9.162409837810438\n",
            "NDARUG859NKB 13.24640091238859\n",
            "NDARUJ292JXV 12.629945646120685\n",
            "NDARUJ779NM0 11.65506560636494\n",
            "NDARUK329RUU 12.689713245601851\n",
            "NDARUL454XRE 10.444136061457549\n",
            "NDARUL881JR9 8.474208056225148\n",
            "NDARUP132ADW 11.352363612783176\n",
            "NDARUR153ZWB 9.80952498721711\n",
            "NDARUR987CDM 11.361774318884343\n",
            "NDARUT470BM4 13.283279939243581\n",
            "NDARUT792WX7 12.432096330214161\n",
            "NDARUT891XYJ 15.07857086414441\n",
            "NDARUU991VRE 12.57382841305949\n",
            "NDARUW904FMQ 8.141759396489915\n",
            "NDARUY379PT5 9.307250653757567\n",
            "NDARUY730ANT 19.997155530083383\n",
            "NDARUY876VL1 6.564121100911558\n",
            "NDARUZ200NRJ 9.165437569931361\n",
            "NDARUZ368BT4 9.728757220302642\n",
            "NDARVC195NLH 14.191626912067104\n",
            "NDARVC305AC6 9.676762225069815\n",
            "NDARVC673HFA 9.318195466370751\n",
            "NDARVC821LP9 12.069484848248848\n",
            "NDARVD552PRC 11.3086693711392\n",
            "NDARVD685RRJ 18.05972657085882\n",
            "NDARVF786FUU 8.542873741870507\n",
            "NDARVG436WGG 10.05205058611355\n",
            "NDARVG461LA2 11.386888389834507\n",
            "NDARVG597HNL 8.752504938782213\n",
            "NDARVG641YGK 13.562491470849787\n",
            "NDARVG761NR2 8.464858819373289\n",
            "NDARVG971CHH 13.378554653482212\n",
            "NDARVH033CA4 11.577293458584908\n",
            "NDARVL190JA8 13.849809463074536\n",
            "NDARVM685MER 14.730012044662297\n",
            "NDARVM741LKK 7.369787964862102\n",
            "NDARVN648NN2 12.45040028227751\n",
            "NDARVR601FUT 11.466167249616937\n",
            "NDARVT231LJG 10.064415486797346\n",
            "NDARVT488RXJ 13.726496799459598\n",
            "NDARVU416CR6 10.401708720254307\n",
            "NDARVU683CTN 13.47715668250647\n",
            "NDARVV199XK2 9.22089295955734\n",
            "NDARVX185WX2 8.34455377841136\n",
            "NDARWA351ZE2 8.62647162781539\n",
            "NDARWA433WYZ 9.96128783089851\n",
            "NDARWB042HCE 9.86401590767898\n",
            "NDARWE145GN9 11.159446987707803\n",
            "NDARWJ019VGU 12.615357445902402\n",
            "NDARWJ087HKJ 15.317784257275488\n",
            "NDARWK104FLX 17.41829395828392\n",
            "NDARWK626PFY 14.945911879963042\n",
            "NDARWM319UU2 6.652333988482117\n",
            "NDARWM656UWL 12.056624676571113\n",
            "NDARWN169DHY 11.138585019142656\n",
            "NDARWN691CG7 9.035609651254859\n",
            "NDARWP595TE6 9.107726547384773\n",
            "NDARWR678HLF 13.699714680493837\n",
            "NDARWU876CWH 10.698870113545615\n",
            "NDARWW480TU2 7.3814367429141425\n",
            "NDARWX338NDL 10.31028302887822\n",
            "NDARWZ024UYK 9.203174855735895\n",
            "NDARWZ283CWB 13.090578619884681\n",
            "NDARWZ709DLY 11.830841490495558\n",
            "NDARXC828NXQ 9.679182680006436\n",
            "NDARXE132BTC 7.71765721720749\n",
            "NDARXE854EDK 11.269874799021242\n",
            "NDARXF358XGE 5.055677389129693\n",
            "NDARXF497LYF 9.87618185186046\n",
            "NDARXF711LJ9 15.640600969365492\n",
            "NDARXF890FLA 12.017128804851817\n",
            "NDARXG571WPL 12.159700728069083\n",
            "NDARXJ799NEB 9.577637319489048\n",
            "NDARXK009VGV 10.254743889669722\n",
            "NDARXK303DDB 8.153001851179585\n",
            "NDARXN764AC7 11.290893080504762\n",
            "NDARXN893UEZ 7.638936854331735\n",
            "NDARXR346UT5 8.344716832875633\n",
            "NDARXR566CDR 12.131298518813534\n",
            "NDARXT196WPG 13.879166607636236\n",
            "NDARXU437UFZ 9.763092963229465\n",
            "NDARXU679ZE8 16.659153384896864\n",
            "NDARXV034WE0 7.680481314292974\n",
            "NDARXV209WYA 10.52696675790449\n",
            "NDARXW276NXN 11.118921954139154\n",
            "NDARYA877HN5 11.12252385100086\n",
            "NDARYB563VRT 12.186921894209398\n",
            "NDARYC287UFV 9.125787368495608\n",
            "NDARYC466ER1 11.412054290680219\n",
            "NDARYD195BDH 8.949261330438565\n",
            "NDARYE576WR6 12.022484613264787\n",
            "NDARYF338WW1 7.953778765536972\n",
            "NDARYF463RKF 9.371125991837275\n",
            "NDARYG819TE6 12.080660179423466\n",
            "NDARYG874EKA 13.265037298293173\n",
            "NDARYH480GTD 8.354711910867138\n",
            "NDARYH697TPA 10.06183910426235\n",
            "NDARYL438DCK 10.031203363450444\n",
            "NDARYM063XB8 12.789255900881077\n",
            "NDARYR829KD8 15.035637718171351\n",
            "NDARYW945PJU 15.892385253634966\n",
            "NDARYX530MZU 14.592710473500333\n",
            "NDARYX572VEW 6.207719764224073\n",
            "NDARYY022HBW 11.494981734199285\n",
            "NDARYZ637LK4 8.222599094173964\n",
            "NDARZA511FYF 8.962607002970246\n",
            "NDARZA694WHF 12.081643860769123\n",
            "NDARZA982YTP 9.364026622362434\n",
            "NDARZB517KTU 13.579119412890993\n",
            "NDARZC344VH2 11.46736101562417\n",
            "NDARZD099KWW 11.903245351985849\n",
            "NDARZE542ZVH 13.459128459259045\n",
            "NDARZF288FB7 12.805265211084262\n",
            "NDARZH517ZVK 7.824095957976821\n",
            "NDARZJ603JM0 12.04917805409178\n",
            "NDARZK745JGG 10.639761842783008\n",
            "NDARZL113CU0 8.49726218272236\n",
            "NDARZM903TNL 10.218027356688522\n",
            "NDARZT772PU4 16.74330607021642\n",
            "NDARZT957CWG 15.97517278720833\n",
            "NDARZV749GAP 9.292939556463136\n",
            "NDARZW472CCF 10.595005126060173\n",
            "NDARZW619BDL 9.997977505356651\n",
            "NDARZX163EWC 9.983542793132877\n",
            "NDARZY101JNB 8.343458355390165\n",
            "NDARZZ810LVF 11.296808426189841\n"
          ]
        }
      ]
    },
    {
      "cell_type": "code",
      "source": [
        "# Create submission DataFrame with two columns: participant_id and age\n",
        "submission = pd.DataFrame({\n",
        "    'participant_id': test['participant_id'],  # Use the ID column from the test DataFrame\n",
        "    'age': np.round(y_pred, 2)  # Round age predictions to 2 decimal places\n",
        "})"
      ],
      "metadata": {
        "id": "theqOGqpgq0_"
      },
      "execution_count": 34,
      "outputs": []
    },
    {
      "cell_type": "code",
      "source": [
        "# Ensure participant IDs are stored as strings\n",
        "submission['participant_id'] = submission['participant_id'].astype(str)\n"
      ],
      "metadata": {
        "id": "wAQYZhbmgq3V"
      },
      "execution_count": 35,
      "outputs": []
    },
    {
      "cell_type": "code",
      "source": [
        "# Save the submission file to CSV\n",
        "submission_file = '/content/drive/MyDrive/widsdatathon2025-university/kagglekonquest_ridge_regression_with_two_cols.csv'\n",
        "submission.to_csv(submission_file, index=False)\n",
        "print(f\"Submission saved to {submission_file}\")"
      ],
      "metadata": {
        "colab": {
          "base_uri": "https://localhost:8080/"
        },
        "id": "PCcGlGlagq64",
        "outputId": "72c1abaf-63ea-4745-dea6-5f0d8b567e9b"
      },
      "execution_count": 36,
      "outputs": [
        {
          "output_type": "stream",
          "name": "stdout",
          "text": [
            "Submission saved to /content/drive/MyDrive/widsdatathon2025-university/kagglekonquest_ridge_regression_with_two_cols.csv\n"
          ]
        }
      ]
    }
  ]
}